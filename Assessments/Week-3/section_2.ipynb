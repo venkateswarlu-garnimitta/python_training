{
 "cells": [
  {
   "cell_type": "markdown",
   "id": "0d7dc72f",
   "metadata": {},
   "source": [
    "##  Section 2: Coding Questions\n",
    "\n",
    "1. Write a regex to find all digits in a string and return them as a list.\n",
    "2. Write a regex function that replaces all multiple spaces in a string with a single space.\n",
    "3. Write a regex pattern to extract all valid email addresses from a given text."
   ]
  },
  {
   "cell_type": "code",
   "execution_count": 21,
   "id": "5b593c20",
   "metadata": {},
   "outputs": [
    {
     "name": "stdout",
     "output_type": "stream",
     "text": [
      "entered text: 124#fission456sf23dgs436c5nd464m4n3mm436ae47\n",
      "The digits in the text:\n",
      "['1', '2', '4', '4', '5', '6', '2', '3', '4', '3', '6', '5', '4', '6', '4', '4', '3', '4', '3', '6', '4', '7']\n",
      "All numbers in numerical format:\n",
      "[1, 2, 4, 4, 5, 6, 2, 3, 4, 3, 6, 5, 4, 6, 4, 4, 3, 4, 3, 6, 4, 7]\n",
      "All numbers in the text:\n",
      " ['124', '456', '23', '436', '5', '464', '4', '3', '436', '47']\n",
      "All numbers in the text as integers:\n",
      " [124, 456, 23, 436, 5, 464, 4, 3, 436, 47]\n"
     ]
    }
   ],
   "source": [
    "#  1. Write a regex to find all digits in a string and return them as a list\n",
    "\n",
    "\n",
    "import re\n",
    "\n",
    "pattern = r\"\\d\"\n",
    "\n",
    "text = input(\"Enter your text:\")\n",
    "\n",
    "matches = re.findall(pattern,text)\n",
    "print(\"entered text:\",text)\n",
    "print(\"The digits in the text:\")\n",
    "print(matches)\n",
    "\n",
    "digitsInNumericalForm = list(map(int,matches))\n",
    "print(f\"All numbers in numerical format:\\n{digitsInNumericalForm}\")\n",
    "\n",
    "pattern_combined = r\"\\d+\"\n",
    "\n",
    "matches = re.findall(pattern_combined,text)\n",
    "print(\"All numbers in the text:\\n\",matches)\n",
    "\n",
    "In_numerical_Form = list(map(int,matches))\n",
    "print(f\"All numbers in the text as integers:\\n {In_numerical_Form}\")\n"
   ]
  },
  {
   "cell_type": "code",
   "execution_count": 11,
   "id": "c7760382",
   "metadata": {},
   "outputs": [
    {
     "name": "stdout",
     "output_type": "stream",
     "text": [
      "Entered text: This      is    a     sample   text      for     texting the code\n",
      "Result text after replacing multiple spaces with single space:\n",
      "\n",
      "This is a sample text for texting the code\n"
     ]
    }
   ],
   "source": [
    "# 2. Write a regex function that replaces all multiple spaces in a string with a single space.\n",
    "\n",
    "import re\n",
    "\n",
    "pattern = r\"\\s{2,}\"\n",
    "\n",
    "text = input(\"Enter your text:\")\n",
    "print(\"Entered text:\",text)\n",
    "result = re.sub(pattern,\" \",text)\n",
    "print(\"Result text after replacing multiple spaces with single space:\\n\")\n",
    "print(result)"
   ]
  },
  {
   "cell_type": "code",
   "execution_count": 20,
   "id": "2896ae54",
   "metadata": {},
   "outputs": [
    {
     "name": "stdout",
     "output_type": "stream",
     "text": [
      "Entered Text: Hello for contacting us use the following details email : venky@fissionlabs.com and customer support customers.support@gmail.com for contact address contact_support@company.com for assignemnts use the assignements@gmail.com and for assisatance use the assisatnce+support@fission.com\n",
      "Matched Emails: ['venky@fissionlabs.com', 'customers.support@gmail.com', 'contact_support@company.com', 'assignements@gmail.com', 'assisatnce+support@fission.com']\n"
     ]
    }
   ],
   "source": [
    "# 3. Write a regex pattern to extract all valid email addresses from a given text.\n",
    "\n",
    "import re\n",
    "\n",
    "pattern = r\"[a-zA-Z0-9_.+-]+@[a-zA-Z0-9-]+\\.[a-zA-Z]{2,}\"\n",
    "\n",
    "text = input(\"Enter the context:\")\n",
    "\n",
    "matched_emails = re.findall(pattern,text)\n",
    "\n",
    "print(\"Entered Text:\",text)\n",
    "print(\"Matched Emails:\",matched_emails)"
   ]
  }
 ],
 "metadata": {
  "kernelspec": {
   "display_name": "Python 3",
   "language": "python",
   "name": "python3"
  },
  "language_info": {
   "codemirror_mode": {
    "name": "ipython",
    "version": 3
   },
   "file_extension": ".py",
   "mimetype": "text/x-python",
   "name": "python",
   "nbconvert_exporter": "python",
   "pygments_lexer": "ipython3",
   "version": "3.13.3"
  }
 },
 "nbformat": 4,
 "nbformat_minor": 5
}
