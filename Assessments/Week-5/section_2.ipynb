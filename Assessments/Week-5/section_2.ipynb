{
 "cells": [
  {
   "cell_type": "markdown",
   "id": "1e68cdd6",
   "metadata": {
    "vscode": {
     "languageId": "plaintext"
    }
   },
   "source": [
    "---\n",
    "\n",
    "##  Section 2: Coding Questions\n",
    "\n",
    "1.  Write a Python function that reads a file and prints its content.\n"
   ]
  },
  {
   "cell_type": "code",
   "execution_count": 19,
   "id": "7d654801",
   "metadata": {},
   "outputs": [
    {
     "name": "stdout",
     "output_type": "stream",
     "text": [
      "It is a sample\n",
      "\n",
      "file for the\n",
      "\n",
      "testing purpose.\n",
      "\n"
     ]
    }
   ],
   "source": [
    "def print_file_content(filename):\n",
    "    \n",
    "    try:\n",
    "        \n",
    "        with open(filename, \"r\") as f:\n",
    "            \n",
    "            text = f.readlines()\n",
    "            \n",
    "            for line in text:\n",
    "                print(line)\n",
    "                \n",
    "    except FileNotFoundError:\n",
    "        \n",
    "        print(\"File doesn't exist!\")\n",
    "                \n",
    "                \n",
    "\n",
    "\n",
    "print_file_content(\"sample_file.txt\")"
   ]
  },
  {
   "cell_type": "markdown",
   "id": "e33f7c99",
   "metadata": {
    "vscode": {
     "languageId": "plaintext"
    }
   },
   "source": [
    "\n",
    "2.  Write a class `Rectangle` with `length` and `width`, and a method to calculate area. Create an object and show usage.\n"
   ]
  },
  {
   "cell_type": "code",
   "execution_count": null,
   "id": "b8d59f64",
   "metadata": {},
   "outputs": [
    {
     "name": "stdout",
     "output_type": "stream",
     "text": [
      "Area of the rectangle with length 10.0 and width 20.0 is 200.0\n"
     ]
    }
   ],
   "source": [
    "class Rectangle:\n",
    "    \n",
    "    def __init__(self,length,width):\n",
    "        \n",
    "        self.length = length\n",
    "        self.width = width\n",
    "    \n",
    "    def Area(self):\n",
    "        \n",
    "        area = self.length * self.width\n",
    "        \n",
    "        return area\n",
    "    \n",
    "width  = float(input(\"Enter Rectangle width:\"))\n",
    "\n",
    "rectangle_obj = Rectangle(length,width)\n",
    "\n",
    "rectangle_area  = rectangle_obj.Area()\n",
    "\n",
    "print(f\"Area of the rectangle with length {length} and width {width} is {rectangle_area}\")"
   ]
  },
  {
   "cell_type": "markdown",
   "id": "784a9f90",
   "metadata": {
    "vscode": {
     "languageId": "plaintext"
    }
   },
   "source": [
    "3.  Write a unit test using `unittest` module to test a function `add(a, b)` that returns the sum of two numbers.\n"
   ]
  },
  {
   "cell_type": "code",
   "execution_count": 16,
   "id": "06df7085",
   "metadata": {},
   "outputs": [
    {
     "name": "stderr",
     "output_type": "stream",
     "text": [
      ".\n",
      "----------------------------------------------------------------------\n",
      "Ran 1 test in 0.001s\n",
      "\n",
      "OK\n"
     ]
    },
    {
     "data": {
      "text/plain": [
       "<unittest.main.TestProgram at 0x1e95ccae210>"
      ]
     },
     "execution_count": 16,
     "metadata": {},
     "output_type": "execute_result"
    }
   ],
   "source": [
    "import unittest\n",
    "\n",
    "def Add(a, b):\n",
    "    return a + b\n",
    "\n",
    "class TestAdd(unittest.TestCase):\n",
    "\n",
    "    def test_add(self):\n",
    "        self.assertEqual(Add(1, 2), 3)\n",
    "        self.assertEqual(Add(4, 3), 7)\n",
    "        self.assertEqual(Add(4, 5), 9)\n",
    "        self.assertEqual(Add(-2,-1),-3)\n",
    "\n",
    "unittest.main(argv=['first-arg-is-ignored'], exit=False)\n"
   ]
  }
 ],
 "metadata": {
  "kernelspec": {
   "display_name": "Python 3",
   "language": "python",
   "name": "python3"
  },
  "language_info": {
   "codemirror_mode": {
    "name": "ipython",
    "version": 3
   },
   "file_extension": ".py",
   "mimetype": "text/x-python",
   "name": "python",
   "nbconvert_exporter": "python",
   "pygments_lexer": "ipython3",
   "version": "3.11.0"
  }
 },
 "nbformat": 4,
 "nbformat_minor": 5
}
