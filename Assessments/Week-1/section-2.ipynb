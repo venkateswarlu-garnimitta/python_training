{
 "cells": [
  {
   "cell_type": "markdown",
   "id": "ea92dc08",
   "metadata": {
    "vscode": {
     "languageId": "plaintext"
    }
   },
   "source": [
    "## Section 2: Coding Questions\n",
    "1. Write a function that takes two numbers as input and returns their sum.\n",
    "2. Write a Python program that checks whether a number is even or odd using a function."
   ]
  },
  {
   "cell_type": "markdown",
   "id": "c7e06ef2",
   "metadata": {
    "vscode": {
     "languageId": "plaintext"
    }
   },
   "source": [
    "### 1. Write a function that takes two numbers as input and returns their sum.\n"
   ]
  },
  {
   "cell_type": "code",
   "execution_count": 2,
   "id": "06138666",
   "metadata": {},
   "outputs": [
    {
     "name": "stdout",
     "output_type": "stream",
     "text": [
      "Addition of two numbers 7.0 and 10.0 is 17.0\n"
     ]
    }
   ],
   "source": [
    "def get_sum(num1,num2):\n",
    "    \"\"\"_summary_ : Function to add two numbers.\n",
    "\n",
    "    Args:\n",
    "        num1 (int): first number\n",
    "        num2 (int): second number\n",
    "    \"\"\"\n",
    "    \n",
    "    result = num1+num2\n",
    "    return result\n",
    "\n",
    "num1 = float(input(\"Enter Number 1:\"))\n",
    "num2 = float(input(\"Enter Number 2:\"))\n",
    "\n",
    "result = get_sum(num1,num2)\n",
    "print(f\"Addition of two numbers {num1} and {num2} is {result}\")\n",
    "\n",
    "\n"
   ]
  },
  {
   "cell_type": "markdown",
   "id": "193f893b",
   "metadata": {},
   "source": [
    "###  2. Write a Python program that checks whether a number is even or odd using a function."
   ]
  },
  {
   "cell_type": "code",
   "execution_count": 4,
   "id": "38c88307",
   "metadata": {},
   "outputs": [
    {
     "name": "stdout",
     "output_type": "stream",
     "text": [
      "Given number 5.0 is Odd \n"
     ]
    }
   ],
   "source": [
    "def get_even_or_odd(num):\n",
    "    \n",
    "    \"\"\"\n",
    "    Summary: Function to check whether the given number is Even or Odd\n",
    "\n",
    "    Args:\n",
    "        num (int): number to check.\n",
    "    \"\"\"\n",
    "    if num%2==0:\n",
    "        return True\n",
    "    else:\n",
    "        return False\n",
    "\n",
    "num = float(input(\"Enter a Number to check even or odd: \"))\n",
    "\n",
    "result = get_even_or_odd(num)\n",
    "\n",
    "if result:\n",
    "    print(f\"Given number {num} is Even \")\n",
    "else:\n",
    "    print(f\"Given number {num} is Odd \")\n",
    "    \n"
   ]
  }
 ],
 "metadata": {
  "kernelspec": {
   "display_name": "Python 3",
   "language": "python",
   "name": "python3"
  },
  "language_info": {
   "codemirror_mode": {
    "name": "ipython",
    "version": 3
   },
   "file_extension": ".py",
   "mimetype": "text/x-python",
   "name": "python",
   "nbconvert_exporter": "python",
   "pygments_lexer": "ipython3",
   "version": "3.13.3"
  }
 },
 "nbformat": 4,
 "nbformat_minor": 5
}
