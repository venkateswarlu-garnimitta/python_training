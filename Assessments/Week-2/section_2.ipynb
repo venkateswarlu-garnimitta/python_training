{
 "cells": [
  {
   "cell_type": "markdown",
   "id": "62b12998",
   "metadata": {
    "vscode": {
     "languageId": "plaintext"
    }
   },
   "source": [
    "## Section 2: Coding Questions\n",
    "\n",
    "1.  Write a function that uses a lambda to double a number.\n",
    "```\n",
    "Example 1:\n",
    "Input: 5\n",
    "Output: 10\n",
    "\n",
    "Example 2:\n",
    "Input: 12\n",
    "Output: 24\n",
    "\n",
    "Example 3:\n",
    "Input: -7\n",
    "Output: -14\n",
    "```\n"
   ]
  },
  {
   "cell_type": "code",
   "execution_count": null,
   "id": "2db5f3ab",
   "metadata": {},
   "outputs": [
    {
     "name": "stdout",
     "output_type": "stream",
     "text": [
      "Double of 4.0 is 8.0\n"
     ]
    }
   ],
   "source": [
    "## 1. Answer\n",
    "get_double = lambda x: x*2\n",
    "\n",
    "try:\n",
    "    num1 = float(input(\"Enter a number:\"))\n",
    "    result = get_double(num1)\n",
    "    print(f\"Double of {num1} is {result}\")\n",
    "except:\n",
    "    print(\"Please enter a valid number\")\n"
   ]
  },
  {
   "cell_type": "markdown",
   "id": "fc206bcb",
   "metadata": {
    "vscode": {
     "languageId": "plaintext"
    }
   },
   "source": [
    "\n",
    "\n",
    "2. Write a function that takes a list and returns a new list with only even numbers using filter.\n",
    "```\n",
    "Example 1:\n",
    "Input: [1, 2, 3, 4, 5, 6]\n",
    "Output: [2, 4, 6]\n",
    "\n",
    "Example 2:\n",
    "Input: [11, 13, 15, 18, 20]\n",
    "Output: [18, 20]\n",
    "\n",
    "Example 3:\n",
    "Input: [7, 9, 21]\n",
    "Output: []\n",
    "```\n"
   ]
  },
  {
   "cell_type": "code",
   "execution_count": null,
   "id": "1f92da93",
   "metadata": {},
   "outputs": [
    {
     "name": "stdout",
     "output_type": "stream",
     "text": [
      "Given List:[1.0, 2.0, 3.0, 4.0, 5.0, 6.0, 7.0]\n",
      "Filtered list having only even numbers:[2.0, 4.0, 6.0]\n"
     ]
    }
   ],
   "source": [
    "## 2. Answer\n",
    "\n",
    "filter_even = lambda x: x%2==0\n",
    "\n",
    "try:\n",
    "    list1 = input(\"Enter the list elements with ',' seperation:\")\n",
    "    list1 = list(map(float,list1.split(\",\")))\n",
    "except:\n",
    "    print(\"Enter the elements in a correct sequence\")\n",
    "\n",
    "filtered_list = list(filter(filter_even,list1))\n",
    "print(f\"Given List:\\n{list1}\")\n",
    "print(f\"Filtered list having only even numbers:\\n{filtered_list}\")"
   ]
  },
  {
   "cell_type": "markdown",
   "id": "698b9e6b",
   "metadata": {
    "vscode": {
     "languageId": "plaintext"
    }
   },
   "source": [
    "\n",
    "3.  Write a decorator that times the execution of a function and prints the time taken.\n",
    "```\n",
    "Example 1:\n",
    "A function that adds numbers from 1 to 1,000,000\n",
    "Output: Time taken: ~0.05 seconds\n",
    "\n",
    "Example 2:\n",
    "A function that sleeps for 2 seconds\n",
    "Output: Time taken: ~2.00 seconds\n",
    "\n",
    "Example 3:\n",
    "A function that multiplies two numbers (e.g., 10 * 20)\n",
    "Output: Time taken: ~0.00001 seconds\n",
    "\n",
    "```\n"
   ]
  },
  {
   "cell_type": "code",
   "execution_count": 50,
   "id": "34266228",
   "metadata": {},
   "outputs": [
    {
     "name": "stdout",
     "output_type": "stream",
     "text": [
      "Time taken for add_num function:0.04593 sec\n",
      "Time taken for sleep function: 2.000651 sec\n",
      "Time taken for multiplying (10.0, 20.0) function:3e-06\n"
     ]
    }
   ],
   "source": [
    "## 3. Answer\n",
    "\n",
    "import time\n",
    "def execution_time(func):\n",
    "    def wrapper(*args,**kwargs):\n",
    "        start = time.time()\n",
    "        result = func(*args,**kwargs)\n",
    "        end = time.time()\n",
    "        total_time = end-start\n",
    "        return round(total_time,6)\n",
    "    return wrapper\n",
    "\n",
    "\n",
    "@execution_time\n",
    "def add_num():\n",
    "    total = 0\n",
    "    for i  in range(1000000):\n",
    "        total+=i\n",
    "    return total\n",
    "\n",
    "\n",
    "print(f\"Time taken for add_num function:{add_num()} sec\")\n",
    "# Function-2\n",
    "\n",
    "@execution_time\n",
    "def sleep_function():\n",
    "    time.sleep(2)\n",
    "    \n",
    "    \n",
    "print(f\"Time taken for sleep function: {sleep_function()} sec\")\n",
    "# Function-3\n",
    "\n",
    "@execution_time\n",
    "def multiply(num1,num2):\n",
    "    result = num1*num2\n",
    "    return result\n",
    "\n",
    "num1 = float(input(\"Enter 1st num:\"))\n",
    "num2 = float(input(\"Enter 2nd num:\"))\n",
    "print(f\"Time taken for multiplying {num1,num2} function:{multiply(num1,num2)}\")\n"
   ]
  },
  {
   "cell_type": "markdown",
   "id": "2885c1d2",
   "metadata": {
    "vscode": {
     "languageId": "plaintext"
    }
   },
   "source": [
    "\n",
    "\n",
    "4. Write a recursive function that takes a number n and returns a list of all numbers from n down to 1 and then back up to n.\n",
    "```\n",
    "Example 1:\n",
    "Input: 3\n",
    "Output: [3, 2, 1, 2, 3]\n",
    "\n",
    "Example 2:\n",
    "Input: 5\n",
    "Output: [5, 4, 3, 2, 1, 2, 3, 4, 5]"
   ]
  },
  {
   "cell_type": "code",
   "execution_count": null,
   "id": "26cb3c89",
   "metadata": {},
   "outputs": [
    {
     "name": "stdout",
     "output_type": "stream",
     "text": [
      "[5, 4, 3, 2, 1, 2, 3, 4, 5]\n"
     ]
    }
   ],
   "source": [
    "## 4. Answer\n",
    "\n",
    "def get_recursion(n):\n",
    "   \n",
    "    if n==1:\n",
    "        return [1]\n",
    "    \n",
    "    return [n]+get_recursion(n-1)+[n]\n",
    "\n",
    "num = int(input(\"Enter a number:\"))\n",
    "print(get_recursion(num))"
   ]
  }
 ],
 "metadata": {
  "kernelspec": {
   "display_name": "Python 3",
   "language": "python",
   "name": "python3"
  },
  "language_info": {
   "codemirror_mode": {
    "name": "ipython",
    "version": 3
   },
   "file_extension": ".py",
   "mimetype": "text/x-python",
   "name": "python",
   "nbconvert_exporter": "python",
   "pygments_lexer": "ipython3",
   "version": "3.13.3"
  }
 },
 "nbformat": 4,
 "nbformat_minor": 5
}
