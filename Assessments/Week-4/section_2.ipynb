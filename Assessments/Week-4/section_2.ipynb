{
 "cells": [
  {
   "cell_type": "markdown",
   "id": "cef73632",
   "metadata": {
    "vscode": {
     "languageId": "plaintext"
    }
   },
   "source": [
    "\n",
    "##  Section 2: Coding Questions\n",
    "\n",
    "1.  Write a list comprehension to generate a list of squares from 1 to 10.\n",
    "\n",
    "```\n",
    "Example 1:\n",
    "Input: Range = 1 to 10\n",
    "Output: [1, 4, 9, 16, 25, 36, 49, 64, 81, 100]\n",
    "\n",
    "Example 2:\n",
    "Input: Range = 1 to 5\n",
    "Output: [1, 4, 9, 16, 25]\n",
    "\n",
    "Example 3:\n",
    "Input: Range = 3 to 6\n",
    "Output: [9, 16, 25, 36]\n",
    "```\n",
    "\n",
    "\n",
    "\n"
   ]
  },
  {
   "cell_type": "code",
   "execution_count": 22,
   "id": "679c078d",
   "metadata": {},
   "outputs": [
    {
     "name": "stdout",
     "output_type": "stream",
     "text": [
      "the list of squares from 1 to 10 is:\n",
      " [1, 4, 9, 16, 25, 36, 49, 64, 81, 100]\n"
     ]
    }
   ],
   "source": [
    "# Answer\n",
    "squared_list = None\n",
    "\n",
    "try:\n",
    "    \n",
    "    starting_num = int(input(\"Enter the starting number of the range:\"))\n",
    "    ending_num = int(input(\"Enter the ending number of the range:\"))\n",
    "    \n",
    "    if starting_num < 0 or ending_num < 0:\n",
    "        raise ValueError\n",
    "    try:\n",
    "        if starting_num > ending_num:\n",
    "            raise ValueError\n",
    "        else:\n",
    "            squared_list = [x**2 for x in range(starting_num,ending_num+1)]\n",
    "    except:\n",
    "        print(\"Ending_num should be bigger than starting_num\")\n",
    "            \n",
    "\n",
    "except ValueError:\n",
    "    print(\"Please provide the Valid numbers\")\n",
    "\n",
    "if squared_list:\n",
    "    print(f\"the list of squares from {starting_num} to {ending_num} is:\\n {squared_list}\")"
   ]
  },
  {
   "cell_type": "markdown",
   "id": "0a10a254",
   "metadata": {
    "vscode": {
     "languageId": "plaintext"
    }
   },
   "source": [
    "\n",
    "2.  Write a function that takes a list of numbers and returns their sum using enumerate (do not use sum()).\n",
    "\n",
    "```\n",
    "Example 1:\n",
    "Input: [1, 2, 3, 4]\n",
    "Output: 10\n",
    "\n",
    "Example 2:\n",
    "Input: [5, 10, 15]\n",
    "Output: 30\n",
    "\n",
    "Example 3:\n",
    "Input: [-1, 0, 1]\n",
    "Output: 0\n",
    "```\n"
   ]
  },
  {
   "cell_type": "code",
   "execution_count": 55,
   "id": "fa68401c",
   "metadata": {},
   "outputs": [
    {
     "name": "stdout",
     "output_type": "stream",
     "text": [
      "[5.0, 10.0, 15.0]\n",
      "sum of the elements in the list:  [5.0, 10.0, 15.0]  is : 30.0\n"
     ]
    }
   ],
   "source": [
    "number_list = None\n",
    "\n",
    "try: \n",
    "    \n",
    "    entered_list = input(\"Enter the elements in the list by seperating with space\").split(\" \")\n",
    "    number_list = list(map(float,entered_list))\n",
    "    print(number_list)\n",
    "    \n",
    "except ValueError:\n",
    "    \n",
    "    print(\"Please enter the numbers correctly\")\n",
    "    \n",
    "if number_list:\n",
    "    \n",
    "    total_sum = 0\n",
    "    \n",
    "    for index,value in enumerate(number_list):\n",
    "        total_sum += value\n",
    "\n",
    "    print(f\"sum of the elements in the list:  {number_list}  is : {total_sum}\")"
   ]
  },
  {
   "cell_type": "markdown",
   "id": "b5082a3c",
   "metadata": {
    "vscode": {
     "languageId": "plaintext"
    }
   },
   "source": [
    "3.  Write a function that takes another function and returns a new function that logs input and output using decorators and f-strings.\n",
    "\n",
    "```\n",
    "Example 1:\n",
    "Input: logged_add([3, 5])\n",
    "Output: 8\n",
    "\n",
    "Example 2:\n",
    "Input: logged_concat([\"Hello\", \"World\"])\n",
    "Output: \"HelloWorld\"\n",
    "\n",
    "Example 3:\n",
    "Input: logged_multiply([4, 2])\n",
    "Output: 8\n",
    "\n",
    "```"
   ]
  },
  {
   "cell_type": "code",
   "execution_count": 59,
   "id": "cb8fb374",
   "metadata": {},
   "outputs": [
    {
     "name": "stdout",
     "output_type": "stream",
     "text": [
      "Executing \"add\" function with input: [3, 5]\n",
      "Output from \"add\" function: 8\n",
      "\n",
      "\n",
      "Executing \"concat\" function with input: ['Hello', 'World']\n",
      "Output from \"concat\" function: HelloWorld\n",
      "\n",
      "\n",
      "Executing \"multiply\" function with input: [4, 2]\n",
      "Output from \"multiply\" function: 8\n"
     ]
    },
    {
     "data": {
      "text/plain": [
       "8"
      ]
     },
     "execution_count": 59,
     "metadata": {},
     "output_type": "execute_result"
    }
   ],
   "source": [
    "def logger(func):\n",
    "    \n",
    "    def wrapper(args):\n",
    "        \n",
    "        print(f'Executing \"{func.__name__}\" function with input: {args}')\n",
    "        result = func(args)\n",
    "        print(f'Output from \"{func.__name__}\" function: {result}')\n",
    "        return result\n",
    "    \n",
    "    return wrapper\n",
    "\n",
    "@logger\n",
    "def add(numbers):\n",
    "    total_sum =0\n",
    "    for num in numbers:\n",
    "        total_sum += num\n",
    "    return total_sum\n",
    "\n",
    "@logger\n",
    "def concat(texts):\n",
    "    \n",
    "    result = \"\"\n",
    "    for text in texts:\n",
    "        result += text\n",
    "    return result\n",
    "\n",
    "@logger\n",
    "def multiply(numbers):\n",
    "    result = 1\n",
    "    for num in numbers:\n",
    "        result *= num\n",
    "    return result\n",
    "\n",
    "# Test runs\n",
    "logged_add = add\n",
    "logged_concat = concat\n",
    "logged_multiply = multiply\n",
    "\n",
    "logged_add([3, 5])\n",
    "print(\"\\n\")\n",
    "logged_concat([\"Hello\", \"World\"])\n",
    "print(\"\\n\")\n",
    "logged_multiply([4, 2])\n"
   ]
  },
  {
   "cell_type": "code",
   "execution_count": null,
   "id": "041f2186",
   "metadata": {},
   "outputs": [],
   "source": []
  }
 ],
 "metadata": {
  "kernelspec": {
   "display_name": "Python 3",
   "language": "python",
   "name": "python3"
  },
  "language_info": {
   "codemirror_mode": {
    "name": "ipython",
    "version": 3
   },
   "file_extension": ".py",
   "mimetype": "text/x-python",
   "name": "python",
   "nbconvert_exporter": "python",
   "pygments_lexer": "ipython3",
   "version": "3.13.3"
  }
 },
 "nbformat": 4,
 "nbformat_minor": 5
}
